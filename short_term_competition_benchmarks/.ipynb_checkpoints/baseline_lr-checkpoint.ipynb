{
 "cells": [
  {
   "cell_type": "code",
   "execution_count": 1,
   "metadata": {
    "collapsed": true
   },
   "outputs": [],
   "source": [
    "import pandas as pd\n",
    "import numpy as np\n",
    "\n",
    "from datetime import timedelta\n",
    "\n",
    "from sklearn.linear_model import LinearRegression\n",
    "\n",
    "import warnings\n",
    "warnings.filterwarnings('ignore')"
   ]
  },
  {
   "cell_type": "code",
   "execution_count": 2,
   "metadata": {
    "collapsed": true
   },
   "outputs": [],
   "source": [
    "df = pd.read_csv(\"../data/player_price.csv\")\n",
    "sample_subm = pd.read_csv(\"kaggle_sample_submission.csv\")"
   ]
  },
  {
   "cell_type": "code",
   "execution_count": 3,
   "metadata": {
    "collapsed": true
   },
   "outputs": [],
   "source": [
    "sample_subm[\"player_id\"] = sample_subm[\"id\"].apply(lambda x: int(x.split(\"_\")[0]))\n",
    "sample_subm[\"Date\"] = sample_subm[\"id\"].apply(lambda x: np.datetime64(x.split(\"_\")[1]))"
   ]
  },
  {
   "cell_type": "code",
   "execution_count": 4,
   "metadata": {
    "collapsed": true
   },
   "outputs": [],
   "source": [
    "df = df[df[\"player_id\"].isin(sample_subm[\"player_id\"].unique())]\n",
    "df['Date'] = pd.to_datetime(df['timestamp'], unit='ms')\n",
    "df.drop([\"timestamp\", \"ps_price\", \"player_name\"], axis=1, inplace=True)"
   ]
  },
  {
   "cell_type": "code",
   "execution_count": 5,
   "metadata": {
    "collapsed": true
   },
   "outputs": [],
   "source": [
    "dataForModel = df[(df[\"Date\"] <= df[\"Date\"].max() - timedelta(days=7)) & \n",
    "                   (df[\"Date\"] > df[\"Date\"].max() - timedelta(days=28))]\n",
    "dataForModel[\"Date\"] = dataForModel[\"Date\"].astype(str)\n",
    "dataForModel = pd.pivot_table(dataForModel, values=\"xbox_price\", \n",
    "                              index='player_id', columns='Date',\n",
    "                              aggfunc=np.sum)\n",
    "dataForModel.sort_index(inplace=True)"
   ]
  },
  {
   "cell_type": "code",
   "execution_count": 6,
   "metadata": {
    "collapsed": true
   },
   "outputs": [],
   "source": [
    "dataForPrediction = df[df[\"Date\"] > df[\"Date\"].max() - timedelta(days=21)]\n",
    "dataForPrediction[\"Date\"] = dataForPrediction[\"Date\"].astype(str)\n",
    "dataForPrediction = pd.pivot_table(dataForPrediction, values=\"xbox_price\", \n",
    "                              index='player_id', columns='Date',\n",
    "                              aggfunc=np.sum)\n",
    "dataForPrediction.sort_index(inplace=True)"
   ]
  },
  {
   "cell_type": "code",
   "execution_count": 7,
   "metadata": {
    "collapsed": true
   },
   "outputs": [],
   "source": [
    "target_df = df[df[\"Date\"] > df[\"Date\"].max() - timedelta(days=7)].sort_values([\"player_id\"])"
   ]
  },
  {
   "cell_type": "code",
   "execution_count": 8,
   "metadata": {
    "collapsed": true
   },
   "outputs": [],
   "source": [
    "models = []\n",
    "for day in target_df[\"Date\"].unique():\n",
    "    lr = LinearRegression(n_jobs=-1)\n",
    "    lr.fit(dataForModel, target_df.loc[target_df[\"Date\"] == day, \"xbox_price\"])\n",
    "    models.append(lr)"
   ]
  },
  {
   "cell_type": "code",
   "execution_count": 9,
   "metadata": {
    "collapsed": true,
    "scrolled": true
   },
   "outputs": [],
   "source": [
    "for i, day in enumerate(sample_subm[\"Date\"].unique()):\n",
    "    sample_subm.loc[sample_subm[\"Date\"] == day, \"price\"] = models[i].predict(dataForPrediction)"
   ]
  },
  {
   "cell_type": "code",
   "execution_count": 10,
   "metadata": {
    "collapsed": true
   },
   "outputs": [],
   "source": [
    "sample_subm[[\"id\", \"price\"]].to_csv(\"lr_benchmark.csv\", index=False)"
   ]
  }
 ],
 "metadata": {
  "kernelspec": {
   "display_name": "Python 3",
   "language": "python",
   "name": "python3"
  },
  "language_info": {
   "codemirror_mode": {
    "name": "ipython",
    "version": 3
   },
   "file_extension": ".py",
   "mimetype": "text/x-python",
   "name": "python",
   "nbconvert_exporter": "python",
   "pygments_lexer": "ipython3",
   "version": "3.6.1"
  }
 },
 "nbformat": 4,
 "nbformat_minor": 2
}
